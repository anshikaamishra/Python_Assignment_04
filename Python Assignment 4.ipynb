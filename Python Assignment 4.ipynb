{
 "cells": [
  {
   "cell_type": "markdown",
   "id": "a190b4a2-90b7-4d2f-9461-a468b038b2a3",
   "metadata": {},
   "source": [
    "## Python Assignment 4"
   ]
  },
  {
   "cell_type": "markdown",
   "id": "1bd9a7f1-d6bc-4be6-af98-6c90d1a78785",
   "metadata": {},
   "source": [
    "**Q1. Which keyword is used to create a function? Create a function to return a list of odd numbers in the  range of 1 to 25**"
   ]
  },
  {
   "cell_type": "markdown",
   "id": "fc628d6e-a873-4492-ad2b-5284c22473f4",
   "metadata": {},
   "source": [
    "- The 'def' keyword is used to create a function"
   ]
  },
  {
   "cell_type": "code",
   "execution_count": 1,
   "id": "c321e56e-561e-4a32-a5bf-cc6c2654f147",
   "metadata": {},
   "outputs": [],
   "source": [
    "\n",
    "def odd_number() :\n",
    "    return [num for num in range(1, 26) if num % 2 != 0]"
   ]
  },
  {
   "cell_type": "code",
   "execution_count": 2,
   "id": "bc22422b-16aa-4c76-850b-bc4040bdca4d",
   "metadata": {},
   "outputs": [
    {
     "name": "stdout",
     "output_type": "stream",
     "text": [
      "[1, 3, 5, 7, 9, 11, 13, 15, 17, 19, 21, 23, 25]\n"
     ]
    }
   ],
   "source": [
    "print(odd_number())"
   ]
  },
  {
   "cell_type": "markdown",
   "id": "638137e4-878d-47a0-84c0-7be23b8f63b6",
   "metadata": {},
   "source": [
    "**Q2.Why** '*args' **and** '**kwargs' **is used in some functions? Create a function each for** '*args' **and** '**kwargs'  **to demonstrate their use.** "
   ]
  },
  {
   "cell_type": "markdown",
   "id": "432b8424-100e-4923-b1ba-3e0eb94a2eb1",
   "metadata": {},
   "source": [
    "- **args and ***kwargs are special syntax in python that allow a function to accept n number of arguments\n",
    "- *args is used when we don't know many arguments will be passed to the function or when we want to pass n number of arguments in linear form\n",
    "- **kwargs is used when we don't know many arguments will be passed to the function or when we want to pass n number of arguments in key value pair(dictionary form)\n",
    "- Here are some examples of functions that use *args and **kwargs"
   ]
  },
  {
   "cell_type": "code",
   "execution_count": 3,
   "id": "5dca383e-3446-4b50-817b-de7dd8b0e0a4",
   "metadata": {},
   "outputs": [
    {
     "name": "stdout",
     "output_type": "stream",
     "text": [
      "15\n",
      "6\n"
     ]
    }
   ],
   "source": [
    "## function that use *args\n",
    "def sum_num(*args) : \n",
    "    # Returns the sum of all the numbers in *args\n",
    "    return sum(args)\n",
    "\n",
    "print(sum_num(1,2,3,4,5))\n",
    "print(sum_num(1,2,3))"
   ]
  },
  {
   "cell_type": "code",
   "execution_count": 4,
   "id": "fa51a0e5-2509-4459-b0ce-79ab2bbeb50c",
   "metadata": {},
   "outputs": [
    {
     "name": "stdout",
     "output_type": "stream",
     "text": [
      "Name: Anshika\n",
      "Age: 20\n",
      "Name: Aditi\n",
      "Age: 18\n"
     ]
    }
   ],
   "source": [
    "## function that use **kwargs\n",
    "\n",
    "def user(**kwargs) : \n",
    "    print(\"Name:\", kwargs.get(\"name\"))\n",
    "    print(\"Age:\", kwargs.get(\"age\"))\n",
    "\n",
    "user(name = \"Anshika\", age = 20)\n",
    "user(name = \"Aditi\", age = 18)"
   ]
  },
  {
   "cell_type": "markdown",
   "id": "0c14c082-d8ee-46e3-8716-1896e292f277",
   "metadata": {},
   "source": [
    "**Q3.  What is an iterator in python? Name the method used to initialise the iterator object and the method  used for iteration. Use these methods to print the first five elements of the given list [2, 4, 6, 8, 10, 12, 14,  16, 18, 20].**"
   ]
  },
  {
   "cell_type": "markdown",
   "id": "80ca4b1a-79a4-4445-8b2c-3367bf0741f7",
   "metadata": {},
   "source": [
    "- An iterator is used to iterate over a sequence of values, such as list, tuple, string and returns one value at a time.\n",
    "- The ' __iter()__ ' method is used to initialise the iterator object and the ' __next()__ ' method is used for iteration, which returns next value in the sequence.\n",
    "- Here's an example of using these methods to print the first five elements of the list [2, 4, 6, 8, 10, 12, 14,  16, 18, 20] :"
   ]
  },
  {
   "cell_type": "code",
   "execution_count": 5,
   "id": "3f127ac0-39de-440b-85a4-1f035667f944",
   "metadata": {},
   "outputs": [
    {
     "name": "stdout",
     "output_type": "stream",
     "text": [
      "2\n",
      "4\n",
      "6\n",
      "8\n",
      "10\n"
     ]
    }
   ],
   "source": [
    "my_list = [2, 4, 6, 8, 10, 12, 14,  16, 18, 20]\n",
    "\n",
    "# Initalise the iterator object\n",
    "my_iterator = iter(my_list)\n",
    "\n",
    "# Iterate over the first five elements\n",
    "for i in range(5):\n",
    "    print(next(my_iterator))"
   ]
  },
  {
   "cell_type": "markdown",
   "id": "9e00a5fd-d41d-405f-96cf-59c37893722b",
   "metadata": {},
   "source": [
    "**Q4.  What is a generator function in python? Why yield keyword is used? Give an example of a generator  function.**"
   ]
  },
  {
   "cell_type": "markdown",
   "id": "25ec3944-421f-453f-8130-b3c6f1e49261",
   "metadata": {},
   "source": [
    "- A generator function in Python is a type of function that uses 'yield' keyword to return an iterator object.\n",
    "- The generator function generates values one at a time, rather than returning a collection of values all at once.\n",
    "- The 'yield' keyword is used to specify the values that should returned by the generator function.\n",
    "- The advantage of using a generator function over a regular function is that it allows us to generate sequences of values one at a time, without having to generate the entire sequence in memory first."
   ]
  },
  {
   "cell_type": "code",
   "execution_count": 6,
   "id": "645df173-9956-4b53-a3c8-a872177f0a87",
   "metadata": {},
   "outputs": [
    {
     "name": "stdout",
     "output_type": "stream",
     "text": [
      "0\n",
      "2\n",
      "4\n",
      "6\n",
      "8\n",
      "10\n",
      "12\n",
      "14\n"
     ]
    }
   ],
   "source": [
    "def even(num) :\n",
    "    # A generator function that yields even number up to num\n",
    "    n = 0\n",
    "    while n < num:\n",
    "        yield n\n",
    "        n += 2\n",
    "        \n",
    "for i in even(15):\n",
    "    print(i)"
   ]
  },
  {
   "cell_type": "markdown",
   "id": "72119be9-d6c1-43a9-8fc1-0fa79e3efb59",
   "metadata": {},
   "source": [
    "**Q5. Create a generator function for prime numbers less than 1000. Use the next() method to print the first 20 prime numbers.**"
   ]
  },
  {
   "cell_type": "code",
   "execution_count": 7,
   "id": "06db371b-774b-45ef-bbd5-cfdff3fbb8de",
   "metadata": {},
   "outputs": [
    {
     "name": "stdout",
     "output_type": "stream",
     "text": [
      "2\n",
      "3\n",
      "5\n",
      "7\n",
      "11\n",
      "13\n",
      "17\n",
      "19\n",
      "23\n",
      "29\n",
      "31\n",
      "37\n",
      "41\n",
      "43\n",
      "47\n",
      "53\n",
      "59\n",
      "61\n",
      "67\n",
      "71\n"
     ]
    }
   ],
   "source": [
    "# Generator function for prime number less than 1000\n",
    "\n",
    "def prime() :\n",
    "    for num in range(2, 1000):\n",
    "        isprime = True\n",
    "        \n",
    "        for divisor in range(2, num):\n",
    "            if num % divisor == 0:\n",
    "                isprime = False\n",
    "                break\n",
    "                \n",
    "        if isprime:\n",
    "            yield num\n",
    "            \n",
    "prime_num = prime()\n",
    "            \n",
    "for i in range(20):\n",
    "    print(next(prime_num))"
   ]
  },
  {
   "cell_type": "markdown",
   "id": "848efe9b-34ba-4156-88ca-4d67c3a83863",
   "metadata": {},
   "source": [
    "**Q6. Write a python program to print the first 10 Fibonacci numbers using a while loop.**"
   ]
  },
  {
   "cell_type": "code",
   "execution_count": 8,
   "id": "de522c43-c87f-4286-86af-17f98beecb81",
   "metadata": {},
   "outputs": [
    {
     "name": "stdout",
     "output_type": "stream",
     "text": [
      "0\n",
      "1\n",
      "1\n",
      "2\n",
      "3\n",
      "5\n",
      "8\n",
      "13\n",
      "21\n",
      "34\n"
     ]
    }
   ],
   "source": [
    "a,b = 0,1\n",
    "count, max_count = 0 , 10\n",
    "\n",
    "while count < max_count:\n",
    "    print(a)\n",
    "    a , b = b , a + b\n",
    "    count += 1"
   ]
  },
  {
   "cell_type": "markdown",
   "id": "87f01142-5fa1-49a1-bc05-982aea2d99db",
   "metadata": {},
   "source": [
    "**Q7. Write a List Comprehension to iterate through the given string: ‘pwskills’. \n",
    "Expected output: ['p', 'w', 's', 'k', 'i', 'l', 'l', 's']**"
   ]
  },
  {
   "cell_type": "code",
   "execution_count": 9,
   "id": "08069ae5-e8e3-4ad6-81ce-7c2b4aff3cd6",
   "metadata": {},
   "outputs": [],
   "source": [
    "s = \"pwskills\""
   ]
  },
  {
   "cell_type": "code",
   "execution_count": 10,
   "id": "df2b38c3-f472-47aa-8231-908126c2ab54",
   "metadata": {},
   "outputs": [
    {
     "name": "stdout",
     "output_type": "stream",
     "text": [
      "['p', 'w', 's', 'k', 'i', 'l', 'l', 's']\n"
     ]
    }
   ],
   "source": [
    "comp = [i for i in s]\n",
    "print(comp)"
   ]
  },
  {
   "cell_type": "markdown",
   "id": "ca837d28-f2aa-4911-9bf5-168fd9a2c03f",
   "metadata": {},
   "source": [
    "**Q8. Write a python program to check whether a given number is Palindrome or not using a while loop.**"
   ]
  },
  {
   "cell_type": "code",
   "execution_count": 11,
   "id": "f1dc22c5-d1c3-4f31-94d8-d85ba3c0ebbf",
   "metadata": {},
   "outputs": [
    {
     "name": "stdin",
     "output_type": "stream",
     "text": [
      "Enter the number to check whether the number is palindrome:  121\n"
     ]
    },
    {
     "name": "stdout",
     "output_type": "stream",
     "text": [
      "121 is a palindrome\n"
     ]
    }
   ],
   "source": [
    "num = int(input(\"Enter the number to check whether the number is palindrome: \"))\n",
    "i = 0\n",
    "temp = num\n",
    "\n",
    "while temp > 0:\n",
    "    i =  i * 10 + temp % 10\n",
    "    temp = temp // 10\n",
    "if num == i :\n",
    "    print(num, \"is a palindrome\")\n",
    "else:\n",
    "    print(num, \"is not a palindrome\")"
   ]
  },
  {
   "cell_type": "code",
   "execution_count": 12,
   "id": "dbf19276-7f0c-49c8-9768-5af436e8f88f",
   "metadata": {},
   "outputs": [
    {
     "name": "stdin",
     "output_type": "stream",
     "text": [
      "Enter the number: 123\n"
     ]
    },
    {
     "name": "stdout",
     "output_type": "stream",
     "text": [
      "123 is not a palindrome\n"
     ]
    }
   ],
   "source": [
    "num = input(\"Enter the number:\")\n",
    "if num == num[::-1] :\n",
    "    print(num, \"is a palindrome\")\n",
    "else:\n",
    "    print(num, \"is not a palindrome\")"
   ]
  },
  {
   "cell_type": "markdown",
   "id": "acfc9841-b8f4-4651-bb16-f21cc80288c4",
   "metadata": {},
   "source": [
    "**Q9. Write a code to print odd numbers from 1 to 100 using list comprehension. \n",
    "Note: Use a list comprehension to create a list from 1 to 100 and use another List comprehension to filter  out odd numbers.**"
   ]
  },
  {
   "cell_type": "code",
   "execution_count": 13,
   "id": "62e75dc9-fd5f-4adf-90a2-2f405fbc348b",
   "metadata": {},
   "outputs": [
    {
     "name": "stdout",
     "output_type": "stream",
     "text": [
      "[1, 3, 5, 7, 9, 11, 13, 15, 17, 19, 21, 23, 25, 27, 29, 31, 33, 35, 37, 39, 41, 43, 45, 47, 49, 51, 53, 55, 57, 59, 61, 63, 65, 67, 69, 71, 73, 75, 77, 79, 81, 83, 85, 87, 89, 91, 93, 95, 97, 99]\n"
     ]
    }
   ],
   "source": [
    "# Create a list of numbers from 1 to 100\n",
    "l = [i for i in range(1, 101)]\n",
    "\n",
    "#Filter out odd numbers using list comprehension\n",
    "odd_num = [i for i in l if i%2 != 0]\n",
    "\n",
    "print(odd_num)"
   ]
  },
  {
   "cell_type": "code",
   "execution_count": null,
   "id": "02b25eba-0960-44c9-849f-e6220edde211",
   "metadata": {},
   "outputs": [],
   "source": []
  }
 ],
 "metadata": {
  "kernelspec": {
   "display_name": "Python 3 (ipykernel)",
   "language": "python",
   "name": "python3"
  },
  "language_info": {
   "codemirror_mode": {
    "name": "ipython",
    "version": 3
   },
   "file_extension": ".py",
   "mimetype": "text/x-python",
   "name": "python",
   "nbconvert_exporter": "python",
   "pygments_lexer": "ipython3",
   "version": "3.10.8"
  }
 },
 "nbformat": 4,
 "nbformat_minor": 5
}
